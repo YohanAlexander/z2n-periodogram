{
 "cells": [
  {
   "cell_type": "code",
   "execution_count": 1,
   "metadata": {},
   "outputs": [],
   "source": [
    "from file import fits\n",
    "from stats import z2n\n",
    "import numpy as np\n",
    "import matplotlib.pyplot as plt"
   ]
  },
  {
   "cell_type": "code",
   "execution_count": 2,
   "metadata": {},
   "outputs": [
    {
     "data": {
      "text/plain": [
       "array([1.90508838e+08, 1.90508838e+08, 1.90508839e+08, ...,\n",
       "       1.90548859e+08, 1.90548862e+08, 1.90548865e+08])"
      ]
     },
     "execution_count": 2,
     "metadata": {},
     "output_type": "execute_result"
    }
   ],
   "source": [
    "time = fits.load_fits('../rxj_pnevtlist_0310kev_baryc.ds.gz')\n",
    "time"
   ]
  },
  {
   "cell_type": "code",
   "execution_count": 3,
   "metadata": {},
   "outputs": [
    {
     "data": {
      "text/plain": [
       "array([0.0001 , 0.00011, 0.00012, 0.00013, 0.00014, 0.00015, 0.00016,\n",
       "       0.00017, 0.00018, 0.00019, 0.0002 , 0.00021, 0.00022, 0.00023,\n",
       "       0.00024, 0.00025, 0.00026, 0.00027, 0.00028, 0.00029, 0.0003 ,\n",
       "       0.00031, 0.00032, 0.00033, 0.00034, 0.00035, 0.00036, 0.00037,\n",
       "       0.00038, 0.00039, 0.0004 , 0.00041, 0.00042, 0.00043, 0.00044,\n",
       "       0.00045, 0.00046, 0.00047, 0.00048, 0.00049, 0.0005 , 0.00051,\n",
       "       0.00052, 0.00053, 0.00054, 0.00055, 0.00056, 0.00057, 0.00058,\n",
       "       0.00059, 0.0006 , 0.00061, 0.00062, 0.00063, 0.00064, 0.00065,\n",
       "       0.00066, 0.00067, 0.00068, 0.00069, 0.0007 , 0.00071, 0.00072,\n",
       "       0.00073, 0.00074, 0.00075, 0.00076, 0.00077, 0.00078, 0.00079,\n",
       "       0.0008 , 0.00081, 0.00082, 0.00083, 0.00084, 0.00085, 0.00086,\n",
       "       0.00087, 0.00088, 0.00089, 0.0009 , 0.00091, 0.00092, 0.00093,\n",
       "       0.00094, 0.00095, 0.00096, 0.00097, 0.00098, 0.00099, 0.001  ,\n",
       "       0.00101, 0.00102, 0.00103, 0.00104, 0.00105, 0.00106, 0.00107,\n",
       "       0.00108, 0.00109, 0.0011 , 0.00111, 0.00112, 0.00113, 0.00114,\n",
       "       0.00115, 0.00116, 0.00117, 0.00118, 0.00119, 0.0012 , 0.00121,\n",
       "       0.00122, 0.00123, 0.00124, 0.00125, 0.00126, 0.00127, 0.00128,\n",
       "       0.00129, 0.0013 , 0.00131, 0.00132, 0.00133, 0.00134, 0.00135,\n",
       "       0.00136, 0.00137, 0.00138, 0.00139, 0.0014 , 0.00141, 0.00142,\n",
       "       0.00143, 0.00144, 0.00145, 0.00146, 0.00147, 0.00148, 0.00149])"
      ]
     },
     "execution_count": 3,
     "metadata": {},
     "output_type": "execute_result"
    }
   ],
   "source": [
    "freq = np.arange(1e-4, 1.5e-3, 1e-5)\n",
    "freq"
   ]
  },
  {
   "cell_type": "code",
   "execution_count": 4,
   "metadata": {},
   "outputs": [
    {
     "name": "stderr",
     "output_type": "stream",
     "text": [
      "Calculating phase values: 100%|██████████| 33712/33712 [00:00<00:00, 147218.36it/s]\n",
      "Calculating Z2n Statistics: 100%|██████████| 140/140 [00:00<00:00, 793.79it/s]\n"
     ]
    }
   ],
   "source": [
    "pot = z2n.periodogram(time, freq)"
   ]
  },
  {
   "cell_type": "code",
   "execution_count": 5,
   "metadata": {},
   "outputs": [
    {
     "data": {
      "text/plain": [
       "0.0007199999999999999"
      ]
     },
     "execution_count": 5,
     "metadata": {},
     "output_type": "execute_result"
    }
   ],
   "source": [
    "peak = z2n.peak(freq, pot)\n",
    "peak"
   ]
  },
  {
   "cell_type": "code",
   "execution_count": 6,
   "metadata": {},
   "outputs": [
    {
     "data": {
      "text/plain": [
       "42.94981749911741"
      ]
     },
     "execution_count": 6,
     "metadata": {},
     "output_type": "execute_result"
    }
   ],
   "source": [
    "uncert = z2n.forest(freq, pot)\n",
    "uncert"
   ]
  },
  {
   "cell_type": "code",
   "execution_count": 7,
   "metadata": {},
   "outputs": [
    {
     "data": {
      "text/plain": [
       "6440.147683926096"
      ]
     },
     "execution_count": 7,
     "metadata": {},
     "output_type": "execute_result"
    }
   ],
   "source": [
    "band = z2n.bandwidth(freq, pot)\n",
    "band"
   ]
  }
 ],
 "metadata": {
  "kernelspec": {
   "display_name": "Python 3",
   "language": "python",
   "name": "python3"
  },
  "language_info": {
   "codemirror_mode": {
    "name": "ipython",
    "version": 3
   },
   "file_extension": ".py",
   "mimetype": "text/x-python",
   "name": "python",
   "nbconvert_exporter": "python",
   "pygments_lexer": "ipython3",
   "version": "3.7.5"
  }
 },
 "nbformat": 4,
 "nbformat_minor": 4
}
