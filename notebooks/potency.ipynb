{
 "cells": [
  {
   "cell_type": "markdown",
   "metadata": {},
   "source": [
    "# Teste das funções do programa para verificar a potência Z2n"
   ]
  },
  {
   "cell_type": "code",
   "execution_count": 1,
   "metadata": {},
   "outputs": [],
   "source": [
    "from file import fits\n",
    "from stats import z2n\n",
    "import numpy as np"
   ]
  },
  {
   "cell_type": "markdown",
   "metadata": {},
   "source": [
    "### Carregando o arquivo FITS na memória e selecionando os 10 primeiros valores"
   ]
  },
  {
   "cell_type": "code",
   "execution_count": 2,
   "metadata": {},
   "outputs": [
    {
     "data": {
      "text/plain": [
       "array([1.90508838e+08, 1.90508838e+08, 1.90508839e+08, 1.90508840e+08,\n",
       "       1.90508840e+08, 1.90508841e+08, 1.90508842e+08, 1.90508842e+08,\n",
       "       1.90508843e+08, 1.90508844e+08])"
      ]
     },
     "execution_count": 2,
     "metadata": {},
     "output_type": "execute_result"
    }
   ],
   "source": [
    "time = fits.load_fits('../rxj_pnevtlist_0310kev_baryc.ds.gz')\n",
    "time = time[:10]\n",
    "time"
   ]
  },
  {
   "cell_type": "markdown",
   "metadata": {},
   "source": [
    "### Será utilizada como parâmetro de teste a frequência de pico esperada 0.0007 Hz"
   ]
  },
  {
   "cell_type": "code",
   "execution_count": 3,
   "metadata": {},
   "outputs": [
    {
     "data": {
      "text/plain": [
       "0.0007"
      ]
     },
     "execution_count": 3,
     "metadata": {},
     "output_type": "execute_result"
    }
   ],
   "source": [
    "freq = np.array([0.0007])\n",
    "freq[0]"
   ]
  },
  {
   "cell_type": "markdown",
   "metadata": {},
   "source": [
    "### Calculando o valor de fase para o tempo de chegada de cada fóton"
   ]
  },
  {
   "cell_type": "code",
   "execution_count": 4,
   "metadata": {},
   "outputs": [
    {
     "name": "stdout",
     "output_type": "stream",
     "text": [
      "fase[0]: 190508838.05251855 * 0.0007 = 133356.18663676298\n",
      "fase[1]: 190508838.1992496 * 0.0007 = 133356.1867394747\n",
      "fase[2]: 190508839.22630772 * 0.0007 = 133356.1874584154\n",
      "fase[3]: 190508839.88654602 * 0.0007 = 133356.18792058222\n",
      "fase[4]: 190508840.0332591 * 0.0007 = 133356.18802328137\n",
      "fase[5]: 190508840.62014216 * 0.0007 = 133356.18843409952\n",
      "fase[6]: 190508841.79389036 * 0.0007 = 133356.18925572323\n",
      "fase[7]: 190508842.3074207 * 0.0007 = 133356.18961519448\n",
      "fase[8]: 190508843.33445835 * 0.0007 = 133356.19033412085\n",
      "fase[9]: 190508843.92134142 * 0.0007 = 133356.190744939\n"
     ]
    }
   ],
   "source": [
    "fase = time * freq\n",
    "for i in range(len(time)):\n",
    "    print(f\"fase[{i}]: {time[i]} * 0.0007 = {fase[i]}\")"
   ]
  },
  {
   "cell_type": "markdown",
   "metadata": {},
   "source": [
    "### Tirando a parte fracionária dos valores de fase"
   ]
  },
  {
   "cell_type": "code",
   "execution_count": 5,
   "metadata": {},
   "outputs": [
    {
     "name": "stdout",
     "output_type": "stream",
     "text": [
      "fase[0]: fase[0] - floor(fase[0]) = 0.18663676298456267\n",
      "fase[1]: fase[1] - floor(fase[1]) = 0.18673947470961139\n",
      "fase[2]: fase[2] - floor(fase[2]) = 0.18745841539930552\n",
      "fase[3]: fase[3] - floor(fase[3]) = 0.18792058221879415\n",
      "fase[4]: fase[4] - floor(fase[4]) = 0.18802328137098812\n",
      "fase[5]: fase[5] - floor(fase[5]) = 0.1884340995165985\n",
      "fase[6]: fase[6] - floor(fase[6]) = 0.18925572323496453\n",
      "fase[7]: fase[7] - floor(fase[7]) = 0.18961519448203035\n",
      "fase[8]: fase[8] - floor(fase[8]) = 0.1903341208526399\n",
      "fase[9]: fase[9] - floor(fase[9]) = 0.1907449389982503\n"
     ]
    }
   ],
   "source": [
    "frac_fase = fase - np.floor(fase)\n",
    "for i in range(len(time)):\n",
    "    print(f\"fase[{i}]: fase[{i}] - floor(fase[{i}]) = {frac_fase[i]}\")"
   ]
  },
  {
   "cell_type": "markdown",
   "metadata": {},
   "source": [
    "### Multiplicando os valores de fase por 2 pi"
   ]
  },
  {
   "cell_type": "code",
   "execution_count": 6,
   "metadata": {},
   "outputs": [
    {
     "name": "stdout",
     "output_type": "stream",
     "text": [
      "fase[0]: fase[0] * 2 * 3.141592653589793 = 133356.18663676298\n",
      "fase[1]: fase[1] * 2 * 3.141592653589793 = 133356.1867394747\n",
      "fase[2]: fase[2] * 2 * 3.141592653589793 = 133356.1874584154\n",
      "fase[3]: fase[3] * 2 * 3.141592653589793 = 133356.18792058222\n",
      "fase[4]: fase[4] * 2 * 3.141592653589793 = 133356.18802328137\n",
      "fase[5]: fase[5] * 2 * 3.141592653589793 = 133356.18843409952\n",
      "fase[6]: fase[6] * 2 * 3.141592653589793 = 133356.18925572323\n",
      "fase[7]: fase[7] * 2 * 3.141592653589793 = 133356.18961519448\n",
      "fase[8]: fase[8] * 2 * 3.141592653589793 = 133356.19033412085\n",
      "fase[9]: fase[9] * 2 * 3.141592653589793 = 133356.190744939\n"
     ]
    }
   ],
   "source": [
    "pi_fase = frac_fase * 2 * np.pi\n",
    "for i in range(len(time)):\n",
    "    print(f\"fase[{i}]: fase[{i}] * 2 * {np.pi} = {fase[i]}\")"
   ]
  },
  {
   "cell_type": "markdown",
   "metadata": {},
   "source": [
    "### Calculando valores de cosseno para os valores de fase"
   ]
  },
  {
   "cell_type": "code",
   "execution_count": 7,
   "metadata": {},
   "outputs": [
    {
     "name": "stdout",
     "output_type": "stream",
     "text": [
      "cos[0]: cos(fase[0]) = 0.3876887888250895\n",
      "cos[1]: cos(fase[1]) = 0.3870938244771296\n",
      "cos[2]: cos(fase[2]) = 0.3829248140103299\n",
      "cos[3]: cos(fase[3]) = 0.38024065863484763\n",
      "cos[4]: cos(fase[4]) = 0.3796437700845729\n",
      "cos[5]: cos(fase[5]) = 0.37725451227497453\n",
      "cos[6]: cos(fase[6]) = 0.37246854515701067\n",
      "cos[7]: cos(fase[7]) = 0.3703714921646281\n",
      "cos[8]: cos(fase[8]) = 0.366171822938701\n",
      "cos[9]: cos(fase[9]) = 0.36376863385359054\n"
     ]
    }
   ],
   "source": [
    "cos = np.cos(pi_fase)\n",
    "for i in range(len(time)):\n",
    "    print(f\"cos[{i}]: cos(fase[{i}]) = {cos[i]}\")"
   ]
  },
  {
   "cell_type": "markdown",
   "metadata": {},
   "source": [
    "### Calculando os valores de seno para os valores de fase"
   ]
  },
  {
   "cell_type": "code",
   "execution_count": 8,
   "metadata": {},
   "outputs": [
    {
     "name": "stdout",
     "output_type": "stream",
     "text": [
      "sin[0]: sin(fase[0]) = 0.9217903248675021\n",
      "sin[1]: sin(fase[1]) = 0.9220403304908463\n",
      "sin[2]: sin(fase[2]) = 0.9237795120130963\n",
      "sin[3]: sin(fase[3]) = 0.924887583180214\n",
      "sin[4]: sin(fase[4]) = 0.9251327514664973\n",
      "sin[5]: sin(fase[5]) = 0.9261096225437737\n",
      "sin[6]: sin(fase[6]) = 0.9280448172737241\n",
      "sin[7]: sin(fase[7]) = 0.9288837159686604\n",
      "sin[8]: sin(fase[8]) = 0.9305472562346034\n",
      "sin[9]: sin(fase[9]) = 0.9314893348956242\n"
     ]
    }
   ],
   "source": [
    "sin = np.sin(pi_fase)\n",
    "for i in range(len(time)):\n",
    "    print(f\"sin[{i}]: sin(fase[{i}]) = {sin[i]}\")"
   ]
  },
  {
   "cell_type": "markdown",
   "metadata": {},
   "source": [
    "### Fazendo o somatório dos valores de cosseno"
   ]
  },
  {
   "cell_type": "code",
   "execution_count": 9,
   "metadata": {},
   "outputs": [
    {
     "data": {
      "text/plain": [
       "3.767626862420874"
      ]
     },
     "execution_count": 9,
     "metadata": {},
     "output_type": "execute_result"
    }
   ],
   "source": [
    "soma_cos = np.sum(cos)\n",
    "soma_cos"
   ]
  },
  {
   "cell_type": "markdown",
   "metadata": {},
   "source": [
    "### Fazendo a potência do cosseno"
   ]
  },
  {
   "cell_type": "code",
   "execution_count": 10,
   "metadata": {},
   "outputs": [
    {
     "data": {
      "text/plain": [
       "14.19501217443536"
      ]
     },
     "execution_count": 10,
     "metadata": {},
     "output_type": "execute_result"
    }
   ],
   "source": [
    "soma_cosq = soma_cos ** 2\n",
    "soma_cosq"
   ]
  },
  {
   "cell_type": "markdown",
   "metadata": {},
   "source": [
    "### Fazendo o somatório dos valores de seno"
   ]
  },
  {
   "cell_type": "code",
   "execution_count": 11,
   "metadata": {},
   "outputs": [
    {
     "data": {
      "text/plain": [
       "9.262705248934543"
      ]
     },
     "execution_count": 11,
     "metadata": {},
     "output_type": "execute_result"
    }
   ],
   "source": [
    "soma_sin = np.sum(sin)\n",
    "soma_sin"
   ]
  },
  {
   "cell_type": "markdown",
   "metadata": {},
   "source": [
    "### Fazendo a potência do seno"
   ]
  },
  {
   "cell_type": "code",
   "execution_count": 12,
   "metadata": {},
   "outputs": [
    {
     "data": {
      "text/plain": [
       "85.79770852863953"
      ]
     },
     "execution_count": 12,
     "metadata": {},
     "output_type": "execute_result"
    }
   ],
   "source": [
    "soma_sinq = soma_sin ** 2\n",
    "soma_sinq"
   ]
  },
  {
   "cell_type": "markdown",
   "metadata": {},
   "source": [
    "### Somando as potências e obtendo a potência Z2n"
   ]
  },
  {
   "cell_type": "code",
   "execution_count": 13,
   "metadata": {},
   "outputs": [
    {
     "data": {
      "text/plain": [
       "99.9927207030749"
      ]
     },
     "execution_count": 13,
     "metadata": {},
     "output_type": "execute_result"
    }
   ],
   "source": [
    "pot = soma_cosq + soma_sinq\n",
    "pot"
   ]
  },
  {
   "cell_type": "markdown",
   "metadata": {},
   "source": [
    "### Obtendo a potência Z2n normalizada"
   ]
  },
  {
   "cell_type": "code",
   "execution_count": 14,
   "metadata": {},
   "outputs": [
    {
     "data": {
      "text/plain": [
       "19.99854414061498"
      ]
     },
     "execution_count": 14,
     "metadata": {},
     "output_type": "execute_result"
    }
   ],
   "source": [
    "norm = 2/len(time) * pot\n",
    "norm"
   ]
  },
  {
   "cell_type": "markdown",
   "metadata": {},
   "source": [
    "### Utilizando o programa Z2n para calcular a potência"
   ]
  },
  {
   "cell_type": "code",
   "execution_count": 15,
   "metadata": {},
   "outputs": [
    {
     "name": "stderr",
     "output_type": "stream",
     "text": [
      "Calculating phase values: 100%|██████████| 10/10 [00:00<00:00, 28263.50it/s]\n",
      "Calculating Z2n Statistics: 100%|██████████| 1/1 [00:00<00:00, 2128.01it/s]\n"
     ]
    },
    {
     "data": {
      "text/plain": [
       "19.998544140616424"
      ]
     },
     "execution_count": 15,
     "metadata": {},
     "output_type": "execute_result"
    }
   ],
   "source": [
    "pot_z2n = z2n.periodogram(time, freq)\n",
    "pot_z2n[0]"
   ]
  },
  {
   "cell_type": "markdown",
   "metadata": {},
   "source": [
    "### Testando a validade do programa"
   ]
  },
  {
   "cell_type": "code",
   "execution_count": 16,
   "metadata": {},
   "outputs": [
    {
     "data": {
      "text/plain": [
       "True"
      ]
     },
     "execution_count": 16,
     "metadata": {},
     "output_type": "execute_result"
    }
   ],
   "source": [
    "boolean = np.isclose(norm, pot_z2n)\n",
    "boolean[0]"
   ]
  }
 ],
 "metadata": {
  "kernelspec": {
   "display_name": "Python 3",
   "language": "python",
   "name": "python3"
  },
  "language_info": {
   "codemirror_mode": {
    "name": "ipython",
    "version": 3
   },
   "file_extension": ".py",
   "mimetype": "text/x-python",
   "name": "python",
   "nbconvert_exporter": "python",
   "pygments_lexer": "ipython3",
   "version": "3.7.5"
  }
 },
 "nbformat": 4,
 "nbformat_minor": 4
}
