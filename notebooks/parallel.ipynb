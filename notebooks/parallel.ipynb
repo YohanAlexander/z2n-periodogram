{
 "cells": [
  {
   "cell_type": "markdown",
   "metadata": {},
   "source": [
    "# Teste da velocidade no uso de paralelismo no programa"
   ]
  },
  {
   "cell_type": "code",
   "execution_count": 1,
   "metadata": {},
   "outputs": [],
   "source": [
    "from file import fits\n",
    "from stats import z2n\n",
    "import numpy as np\n",
    "\n",
    "from multiprocessing import Pool\n",
    "\n",
    "import matplotlib.pyplot as plt\n",
    "\n",
    "import objgraph\n",
    "x = [1]\n",
    "objgraph.show_backrefs([x], filename='backref.png')\n",
    "\n",
    "plt.style.use('ggplot')\n",
    "%matplotlib inline\n",
    "%load_ext line_profiler\n",
    "%load_ext memory_profiler"
   ]
  },
  {
   "cell_type": "markdown",
   "metadata": {},
   "source": [
    "## Carregando o arquivo FITS na memória"
   ]
  },
  {
   "cell_type": "code",
   "execution_count": 2,
   "metadata": {},
   "outputs": [
    {
     "data": {
      "text/plain": [
       "array([1.90508838e+08, 1.90508838e+08, 1.90508839e+08, ...,\n",
       "       1.90548859e+08, 1.90548862e+08, 1.90548865e+08])"
      ]
     },
     "execution_count": 2,
     "metadata": {},
     "output_type": "execute_result"
    }
   ],
   "source": [
    "time = fits.load_fits('../rxj_pnevtlist_0310kev_baryc.ds.gz')\n",
    "time"
   ]
  },
  {
   "cell_type": "markdown",
   "metadata": {},
   "source": [
    "## Definindo limites e o delta do espectro de potências"
   ]
  },
  {
   "cell_type": "code",
   "execution_count": 3,
   "metadata": {},
   "outputs": [
    {
     "data": {
      "text/plain": [
       "array([0.0001  , 0.000101, 0.000102, ..., 0.001497, 0.001498, 0.001499])"
      ]
     },
     "execution_count": 3,
     "metadata": {},
     "output_type": "execute_result"
    }
   ],
   "source": [
    "freq = np.arange(1e-4, 1.5e-3, 1e-6)\n",
    "freq"
   ]
  },
  {
   "cell_type": "markdown",
   "metadata": {},
   "source": [
    "## Achando o período sem paralelismo"
   ]
  },
  {
   "cell_type": "code",
   "execution_count": 4,
   "metadata": {},
   "outputs": [
    {
     "name": "stdout",
     "output_type": "stream",
     "text": [
      "952 µs ± 23.5 µs per loop (mean ± std. dev. of 7 runs, 1000 loops each)\n"
     ]
    }
   ],
   "source": [
    "sem = %timeit -o z2n.period(time)"
   ]
  },
  {
   "cell_type": "markdown",
   "metadata": {},
   "source": [
    "## Achando o período com paralelismo"
   ]
  },
  {
   "cell_type": "code",
   "execution_count": 5,
   "metadata": {},
   "outputs": [
    {
     "name": "stdout",
     "output_type": "stream",
     "text": [
      "581 ms ± 12.9 ms per loop (mean ± std. dev. of 7 runs, 1 loop each)\n"
     ]
    }
   ],
   "source": [
    "parallel = Pool(4)\n",
    "com = %timeit -o parallel.map(z2n.period, time)"
   ]
  },
  {
   "cell_type": "markdown",
   "metadata": {},
   "source": [
    "## Vendo a diferença graficamente"
   ]
  },
  {
   "cell_type": "code",
   "execution_count": 6,
   "metadata": {},
   "outputs": [
    {
     "data": {
      "text/plain": [
       "<BarContainer object of 2 artists>"
      ]
     },
     "execution_count": 6,
     "metadata": {},
     "output_type": "execute_result"
    },
    {
     "data": {
      "image/png": "[encoded data removed]",
      "text/plain": [
       "<Figure size 432x288 with 1 Axes>"
      ]
     },
     "metadata": {
      "needs_background": "light"
     },
     "output_type": "display_data"
    }
   ],
   "source": [
    "labels = [\"Sem paralelismo\", \"Com paralelismo\"]\n",
    "values = [sem.best, com.best]\n",
    "plt.bar(labels, values)"
   ]
  },
  {
   "cell_type": "markdown",
   "metadata": {},
   "source": [
    "## Analisando vazamentos de memoria"
   ]
  },
  {
   "cell_type": "code",
   "execution_count": 7,
   "metadata": {},
   "outputs": [
    {
     "name": "stderr",
     "output_type": "stream",
     "text": [
      "Calculating phase values: 100%|██████████| 33712/33712 [00:00<00:00, 55551.45it/s]\n",
      "Calculating Z2n Statistics: 100%|██████████| 1400/1400 [00:01<00:00, 949.19it/s]"
     ]
    },
    {
     "name": "stdout",
     "output_type": "stream",
     "text": [
      " "
     ]
    },
    {
     "name": "stderr",
     "output_type": "stream",
     "text": [
      "\n"
     ]
    },
    {
     "data": {
      "text/plain": [
       "         81312 function calls (81310 primitive calls) in 4.950 seconds\n",
       "\n",
       "   Ordered by: internal time\n",
       "\n",
       "   ncalls  tottime  percall  cumtime  percall filename:lineno(function)\n",
       "        1    3.247    3.247    3.304    3.304 z2n.py:65(phases)\n",
       "        1    1.448    1.448    4.925    4.925 z2n.py:107(periodogram)\n",
       "     2800    0.107    0.000    0.107    0.000 {method 'reduce' of 'numpy.ufunc' objects}\n",
       "    35114    0.041    0.000    0.073    0.000 std.py:1067(__iter__)\n",
       "        1    0.025    0.025    4.950    4.950 <string>:1(<module>)\n",
       "      230    0.021    0.000    0.021    0.000 {method 'acquire' of '_thread.lock' objects}\n",
       "     2800    0.012    0.000    0.122    0.000 fromnumeric.py:73(_wrapreduction)\n",
       "     2800    0.011    0.000    0.136    0.000 fromnumeric.py:2045(sum)\n",
       "     2800    0.006    0.000    0.148    0.000 <__array_function__ internals>:2(sum)\n",
       "2803/2801    0.005    0.000    0.141    0.000 {built-in method numpy.core._multiarray_umath.implement_array_function}\n",
       "      102    0.005    0.000    0.005    0.000 socket.py:342(send)\n",
       "    17492    0.005    0.000    0.005    0.000 {built-in method time.time}\n",
       "     2800    0.003    0.000    0.003    0.000 fromnumeric.py:74(<dictcomp>)\n",
       "     2879    0.003    0.000    0.003    0.000 {built-in method builtins.isinstance}\n",
       "       24    0.001    0.000    0.003    0.000 std.py:308(format_meter)\n",
       "     2800    0.001    0.000    0.001    0.000 fromnumeric.py:2040(_sum_dispatcher)\n",
       "      186    0.001    0.000    0.001    0.000 {method 'format' of 'str' objects}\n",
       "     2800    0.001    0.000    0.001    0.000 {method 'items' of 'dict' objects}\n",
       "        2    0.001    0.000    0.001    0.000 utils.py:315(_environ_cols_linux)\n",
       "      102    0.001    0.000    0.006    0.000 iostream.py:197(schedule)\n",
       "       28    0.000    0.000    0.000    0.000 threading.py:216(__init__)\n",
       "       24    0.000    0.000    0.000    0.000 std.py:1395(format_dict)\n",
       "       24    0.000    0.000    0.022    0.001 iostream.py:336(flush)\n",
       "       28    0.000    0.000    0.004    0.000 iostream.py:384(write)\n",
       "       48    0.000    0.000    0.000    0.000 utils.py:254(_is_ascii)\n",
       "      126    0.000    0.000    0.001    0.000 threading.py:1092(is_alive)\n",
       "       25    0.000    0.000    0.021    0.001 threading.py:264(wait)\n",
       "       24    0.000    0.000    0.026    0.001 std.py:295(fp_write)\n",
       "       24    0.000    0.000    0.003    0.000 std.py:1057(__repr__)\n",
       "       30    0.000    0.000    0.000    0.000 std.py:91(release)\n",
       "        2    0.000    0.000    0.005    0.002 std.py:777(__init__)\n",
       "       26    0.000    0.000    0.021    0.001 threading.py:534(wait)\n",
       "        1    0.000    0.000    0.000    0.000 synchronize.py:50(__init__)\n",
       "       22    0.000    0.000    0.027    0.001 std.py:1282(refresh)\n",
       "       46    0.000    0.000    0.000    0.000 std.py:225(format_interval)\n",
       "       24    0.000    0.000    0.000    0.000 std.py:152(__format__)\n",
       "       30    0.000    0.000    0.000    0.000 std.py:87(acquire)\n",
       "      128    0.000    0.000    0.000    0.000 threading.py:1050(_wait_for_tstate_lock)\n",
       "       24    0.000    0.000    0.029    0.001 std.py:1410(display)\n",
       "       24    0.000    0.000    0.026    0.001 std.py:301(print_status)\n",
       "        2    0.000    0.000    0.000    0.000 {built-in method _thread.start_new_thread}\n",
       "      102    0.000    0.000    0.000    0.000 iostream.py:93(_event_pipe)\n",
       "       28    0.000    0.000    0.001    0.000 threading.py:499(__init__)\n",
       "       28    0.000    0.000    0.001    0.000 iostream.py:322(_schedule_flush)\n",
       "       28    0.000    0.000    0.000    0.000 iostream.py:309(_is_master_process)\n",
       "      504    0.000    0.000    0.000    0.000 {built-in method builtins.ord}\n",
       "        2    0.000    0.000    0.004    0.002 std.py:507(__new__)\n",
       "        4    0.000    0.000    0.004    0.001 std.py:1228(close)\n",
       "       29    0.000    0.000    0.000    0.000 {built-in method posix.getpid}\n",
       "       43    0.000    0.000    0.000    0.000 {built-in method builtins.hasattr}\n",
       "        1    0.000    0.000    4.950    4.950 {built-in method builtins.exec}\n",
       "       30    0.000    0.000    0.000    0.000 {method 'acquire' of '_multiprocessing.SemLock' objects}\n",
       "        2    0.000    0.000    0.000    0.000 threading.py:763(__init__)\n",
       "       24    0.000    0.000    0.000    0.000 std.py:145(__init__)\n",
       "        2    0.000    0.000    0.001    0.000 std.py:536(_decr_instances)\n",
       "      116    0.000    0.000    0.000    0.000 {built-in method builtins.divmod}\n",
       "       40    0.000    0.000    0.000    0.000 std.py:266(ema)\n",
       "        1    0.000    0.000    0.000    0.000 tempfile.py:153(__next__)\n",
       "       28    0.000    0.000    0.000    0.000 threading.py:243(__exit__)\n",
       "        2    0.000    0.000    0.000    0.000 {built-in method numpy.zeros}\n",
       "       25    0.000    0.000    0.000    0.000 threading.py:252(_acquire_restore)\n",
       "        2    0.000    0.000    0.003    0.002 _monitor.py:32(__init__)\n",
       "      127    0.000    0.000    0.000    0.000 {method 'append' of 'collections.deque' objects}\n",
       "        2    0.000    0.000    0.000    0.000 std.py:529(_get_free_pos)\n",
       "      134    0.000    0.000    0.000    0.000 threading.py:507(is_set)\n",
       "        2    0.000    0.000    0.001    0.000 std.py:609(get_lock)\n",
       "       28    0.000    0.000    0.000    0.000 threading.py:240(__enter__)\n",
       "       53    0.000    0.000    0.000    0.000 {built-in method _thread.allocate_lock}\n",
       "        8    0.000    0.000    0.000    0.000 random.py:224(_randbelow)\n",
       "       24    0.000    0.000    0.000    0.000 {built-in method builtins.max}\n",
       "        6    0.000    0.000    0.000    0.000 _weakrefset.py:58(__iter__)\n",
       "       66    0.000    0.000    0.000    0.000 {built-in method builtins.len}\n",
       "       27    0.000    0.000    0.000    0.000 threading.py:255(_is_owned)\n",
       "       30    0.000    0.000    0.000    0.000 {method 'acquire' of '_thread.RLock' objects}\n",
       "        1    0.000    0.000    0.000    0.000 context.py:69(RLock)\n",
       "        1    0.000    0.000    0.001    0.001 std.py:79(__init__)\n",
       "       24    0.000    0.000    0.000    0.000 utils.py:135(__init__)\n",
       "        6    0.000    0.000    0.000    0.000 {method 'remove' of 'set' objects}\n",
       "        2    0.000    0.000    0.000    0.000 {built-in method fcntl.ioctl}\n",
       "       24    0.000    0.000    0.000    0.000 {method 'update' of 'dict' objects}\n",
       "        1    0.000    0.000    0.000    0.000 <__array_function__ internals>:2(zeros_like)\n",
       "        2    0.000    0.000    0.003    0.002 threading.py:834(start)\n",
       "        2    0.000    0.000    0.000    0.000 os.py:674(__getitem__)\n",
       "       29    0.000    0.000    0.000    0.000 {method 'release' of '_thread.lock' objects}\n",
       "        1    0.000    0.000    0.001    0.001 std.py:101(create_mp_lock)\n",
       "        8    0.000    0.000    0.000    0.000 random.py:256(choice)\n",
       "       24    0.000    0.000    0.000    0.000 utils.py:139(__format__)\n",
       "       25    0.000    0.000    0.000    0.000 threading.py:249(_release_save)\n",
       "        4    0.000    0.000    0.000    0.000 std.py:1245(fp_write)\n",
       "        8    0.000    0.000    0.000    0.000 std.py:95(__enter__)\n",
       "        1    0.000    0.000    0.000    0.000 numeric.py:97(zeros_like)\n",
       "        2    0.000    0.000    0.000    0.000 threading.py:335(notify)\n",
       "       30    0.000    0.000    0.000    0.000 {method 'release' of '_thread.RLock' objects}\n",
       "       28    0.000    0.000    0.000    0.000 {method '__enter__' of '_thread.lock' objects}\n",
       "       30    0.000    0.000    0.000    0.000 {method 'release' of '_multiprocessing.SemLock' objects}\n",
       "        2    0.000    0.000    0.000    0.000 threading.py:1012(join)\n",
       "        1    0.000    0.000    0.000    0.000 _weakrefset.py:36(__init__)\n",
       "        1    0.000    0.000    0.000    0.000 util.py:148(register_after_fork)\n",
       "        1    0.000    0.000    0.000    0.000 weakref.py:165(__setitem__)\n",
       "       28    0.000    0.000    0.000    0.000 {built-in method builtins.abs}\n",
       "        1    0.000    0.000    0.000    0.000 synchronize.py:114(_make_name)\n",
       "        1    0.000    0.000    0.002    0.002 std.py:1454(trange)\n",
       "        6    0.000    0.000    0.000    0.000 threading.py:1225(current_thread)\n",
       "        4    0.000    0.000    0.000    0.000 _weakrefset.py:26(__exit__)\n",
       "        4    0.000    0.000    0.000    0.000 _weakrefset.py:81(add)\n",
       "        8    0.000    0.000    0.000    0.000 <frozen importlib._bootstrap>:1009(_handle_fromlist)\n",
       "        2    0.000    0.000    0.000    0.000 {built-in method builtins.next}\n",
       "        2    0.000    0.000    0.000    0.000 _monitor.py:50(exit)\n",
       "        2    0.000    0.000    0.000    0.000 threading.py:977(_stop)\n",
       "        2    0.000    0.000    0.000    0.000 utils.py:233(_is_utf)\n",
       "        1    0.000    0.000    0.000    0.000 tempfile.py:156(<listcomp>)\n",
       "        4    0.000    0.000    0.000    0.000 _weakrefset.py:20(__enter__)\n",
       "        2    0.000    0.000    0.000    0.000 os.py:752(encode)\n",
       "       24    0.000    0.000    0.000    0.000 {built-in method _imp.lock_held}\n",
       "        8    0.000    0.000    0.000    0.000 std.py:98(__exit__)\n",
       "        2    0.000    0.000    0.000    0.000 threading.py:728(_newname)\n",
       "        8    0.000    0.000    0.000    0.000 {method 'add' of 'set' objects}\n",
       "        1    0.000    0.000    0.000    0.000 tempfile.py:142(rng)\n",
       "        2    0.000    0.000    0.000    0.000 threading.py:513(set)\n",
       "        4    0.000    0.000    0.000    0.000 _weakrefset.py:16(__init__)\n",
       "        2    0.000    0.000    0.000    0.000 _weakrefset.py:106(remove)\n",
       "       28    0.000    0.000    0.000    0.000 {method '__exit__' of '_thread.lock' objects}\n",
       "        2    0.000    0.000    0.000    0.000 {built-in method atexit.register}\n",
       "        4    0.000    0.000    0.000    0.000 {method 'encode' of 'str' objects}\n",
       "        1    0.000    0.000    0.000    0.000 weakref.py:336(__new__)\n",
       "        7    0.000    0.000    0.000    0.000 {built-in method builtins.getattr}\n",
       "        2    0.000    0.000    0.000    0.000 std.py:532(<genexpr>)\n",
       "        2    0.000    0.000    0.000    0.000 std.py:285(status_printer)\n",
       "        4    0.000    0.000    0.000    0.000 std.py:1064(__hash__)\n",
       "        2    0.000    0.000    0.000    0.000 utils.py:247(_supports_unicode)\n",
       "        1    0.000    0.000    0.000    0.000 <__array_function__ internals>:2(copyto)\n",
       "        2    0.000    0.000    0.000    0.000 threading.py:358(notify_all)\n",
       "        1    0.000    0.000    0.000    0.000 <frozen importlib._bootstrap>:416(parent)\n",
       "        3    0.000    0.000    0.000    0.000 {built-in method __new__ of type object at 0x55f403eb9240}\n",
       "        4    0.000    0.000    0.000    0.000 std.py:1060(_comparable)\n",
       "       15    0.000    0.000    0.000    0.000 {method 'getrandbits' of '_random.Random' objects}\n",
       "        4    0.000    0.000    0.000    0.000 _weakrefset.py:52(_commit_removals)\n",
       "        2    0.000    0.000    0.000    0.000 _weakrefset.py:67(__len__)\n",
       "        1    0.000    0.000    0.000    0.000 synchronize.py:90(_make_methods)\n",
       "        2    0.000    0.000    0.000    0.000 _monitor.py:98(report)\n",
       "        2    0.000    0.000    0.000    0.000 utils.py:152(__eq__)\n",
       "        1    0.000    0.000    0.000    0.000 context.py:232(get_context)\n",
       "        1    0.000    0.000    0.000    0.000 <__array_function__ internals>:2(empty_like)\n",
       "        4    0.000    0.000    0.000    0.000 threading.py:1116(daemon)\n",
       "        1    0.000    0.000    0.000    0.000 weakref.py:341(__init__)\n",
       "        2    0.000    0.000    0.000    0.000 {method 'difference' of 'set' objects}\n",
       "        1    0.000    0.000    0.000    0.000 synchronize.py:186(__init__)\n",
       "        2    0.000    0.000    0.000    0.000 threading.py:1131(daemon)\n",
       "        2    0.000    0.000    0.000    0.000 {built-in method builtins.min}\n",
       "        2    0.000    0.000    0.000    0.000 utils.py:263(_environ_cols_wrapper)\n",
       "        6    0.000    0.000    0.000    0.000 {built-in method _thread.get_ident}\n",
       "        5    0.000    0.000    0.000    0.000 {built-in method builtins.id}\n",
       "        1    0.000    0.000    0.000    0.000 {method 'rpartition' of 'str' objects}\n",
       "        1    0.000    0.000    0.000    0.000 std.py:85(<listcomp>)\n",
       "        1    0.000    0.000    0.000    0.000 std.py:112(create_th_lock)\n",
       "        2    0.000    0.000    0.000    0.000 std.py:1054(__del__)\n",
       "        2    0.000    0.000    0.000    0.000 {method 'remove' of 'collections.deque' objects}\n",
       "        1    0.000    0.000    0.000    0.000 {method 'join' of 'str' objects}\n",
       "        8    0.000    0.000    0.000    0.000 {method 'bit_length' of 'int' objects}\n",
       "        1    0.000    0.000    0.000    0.000 util.py:48(debug)\n",
       "        1    0.000    0.000    0.000    0.000 context.py:196(get_start_method)\n",
       "        1    0.000    0.000    0.000    0.000 process.py:36(current_process)\n",
       "        1    0.000    0.000    0.000    0.000 numeric.py:93(_zeros_like_dispatcher)\n",
       "        1    0.000    0.000    0.000    0.000 multiarray.py:77(empty_like)\n",
       "        2    0.000    0.000    0.000    0.000 {method 'locked' of '_thread.lock' objects}\n",
       "        1    0.000    0.000    0.000    0.000 multiarray.py:1043(copyto)\n",
       "        1    0.000    0.000    0.000    0.000 {method 'disable' of '_lsprof.Profiler' objects}"
      ]
     },
     "metadata": {},
     "output_type": "display_data"
    }
   ],
   "source": [
    "%prun z2n.periodogram(time, freq)"
   ]
  },
  {
   "cell_type": "code",
   "execution_count": 8,
   "metadata": {},
   "outputs": [
    {
     "name": "stderr",
     "output_type": "stream",
     "text": [
      "Calculating phase values: 100%|██████████| 33712/33712 [00:00<00:00, 38295.21it/s]\n",
      "Calculating Z2n Statistics: 100%|██████████| 1400/1400 [00:01<00:00, 737.19it/s]\n"
     ]
    },
    {
     "data": {
      "text/plain": [
       "Timer unit: 1e-06 s\n",
       "\n",
       "Total time: 6.97262 s\n",
       "File: /home/yohan/Github/z2n-periodogram/stats/z2n.py\n",
       "Function: periodogram at line 107\n",
       "\n",
       "Line #      Hits         Time  Per Hit   % Time  Line Contents\n",
       "==============================================================\n",
       "   107                                           def periodogram(arrival_times: np.array, frequencies: np.array) -> np.array:\n",
       "   108                                               \"\"\"\n",
       "   109                                               Applies the Z2n statistics to phase values and normalize.\n",
       "   110                                           \n",
       "   111                                               Parameters\n",
       "   112                                               ----------\n",
       "   113                                               arrival_times : numpy.array\n",
       "   114                                                   Numpy array that represents the photon arrival times.\n",
       "   115                                               frequencies : numpy.array\n",
       "   116                                                   Numpy array that represents the frequency spectrum.\n",
       "   117                                           \n",
       "   118                                               Returns\n",
       "   119                                               -------\n",
       "   120                                               potency : numpy.array\n",
       "   121                                                   Numpy array that represents the power spectrum of each frequency on the spectrum.\n",
       "   122                                               \"\"\"\n",
       "   123                                           \n",
       "   124         1          5.0      5.0      0.0      try:\n",
       "   125                                           \n",
       "   126         1          3.0      3.0      0.0          harmonics = 1\n",
       "   127                                           \n",
       "   128         1    4859464.0 4859464.0     69.7          phase_values = phases(arrival_times, frequencies)\n",
       "   129                                           \n",
       "   130         1        111.0    111.0      0.0          potency = np.zeros_like(frequencies)\n",
       "   131                                           \n",
       "   132         1     223970.0 223970.0      3.2          pi = 2 * np.pi * phase_values\n",
       "   133                                           \n",
       "   134      1401      51084.0     36.5      0.7          for freq in trange(frequencies.size, desc='Calculating Z2n Statistics'):\n",
       "   135      1400     932156.0    665.8     13.4              cos = np.sum(np.cos(harmonics * pi[:, freq])) ** 2\n",
       "   136      1400     896519.0    640.4     12.9              sin = np.sum(np.sin(harmonics * pi[:, freq])) ** 2\n",
       "   137      1400       4891.0      3.5      0.1              fft = cos + sin\n",
       "   138      1400       4392.0      3.1      0.1              potency[freq] = fft\n",
       "   139                                           \n",
       "   140         1         29.0     29.0      0.0          potency = (2/arrival_times.size) * potency\n",
       "   141                                           \n",
       "   142         1          1.0      1.0      0.0          return potency\n",
       "   143                                           \n",
       "   144                                               except Exception as error:\n",
       "   145                                                   click.echo(error)"
      ]
     },
     "metadata": {},
     "output_type": "display_data"
    }
   ],
   "source": [
    "%lprun -f z2n.periodogram z2n.periodogram(time, freq)"
   ]
  },
  {
   "cell_type": "code",
   "execution_count": 9,
   "metadata": {},
   "outputs": [
    {
     "name": "stderr",
     "output_type": "stream",
     "text": [
      "Calculating phase values: 100%|██████████| 33712/33712 [00:00<00:00, 54550.07it/s]\n",
      "Calculating Z2n Statistics: 100%|██████████| 1400/1400 [00:01<00:00, 761.07it/s]\n"
     ]
    },
    {
     "name": "stdout",
     "output_type": "stream",
     "text": [
      "peak memory: 1182.14 MiB, increment: 1067.89 MiB\n"
     ]
    }
   ],
   "source": [
    "%memit z2n.periodogram(time, freq)"
   ]
  },
  {
   "cell_type": "code",
   "execution_count": 10,
   "metadata": {},
   "outputs": [
    {
     "name": "stderr",
     "output_type": "stream",
     "text": [
      "Calculating phase values: 100%|██████████| 33712/33712 [00:01<00:00, 24386.72it/s]\n",
      "Calculating Z2n Statistics: 100%|██████████| 1400/1400 [00:02<00:00, 473.80it/s]\n"
     ]
    },
    {
     "name": "stdout",
     "output_type": "stream",
     "text": [
      "\n"
     ]
    },
    {
     "data": {
      "text/plain": [
       "Filename: /home/yohan/Github/z2n-periodogram/stats/z2n.py\n",
       "\n",
       "Line #    Mem usage    Increment   Line Contents\n",
       "================================================\n",
       "   107    113.9 MiB    113.9 MiB   def periodogram(arrival_times: np.array, frequencies: np.array) -> np.array:\n",
       "   108                                 \"\"\"\n",
       "   109                                 Applies the Z2n statistics to phase values and normalize.\n",
       "   110                             \n",
       "   111                                 Parameters\n",
       "   112                                 ----------\n",
       "   113                                 arrival_times : numpy.array\n",
       "   114                                     Numpy array that represents the photon arrival times.\n",
       "   115                                 frequencies : numpy.array\n",
       "   116                                     Numpy array that represents the frequency spectrum.\n",
       "   117                             \n",
       "   118                                 Returns\n",
       "   119                                 -------\n",
       "   120                                 potency : numpy.array\n",
       "   121                                     Numpy array that represents the power spectrum of each frequency on the spectrum.\n",
       "   122                                 \"\"\"\n",
       "   123                             \n",
       "   124    113.9 MiB      0.0 MiB       try:\n",
       "   125                             \n",
       "   126    113.9 MiB      0.0 MiB           harmonics = 1\n",
       "   127                             \n",
       "   128    471.1 MiB    357.2 MiB           phase_values = phases(arrival_times, frequencies)\n",
       "   129                             \n",
       "   130    471.1 MiB      0.0 MiB           potency = np.zeros_like(frequencies)\n",
       "   131                             \n",
       "   132    831.3 MiB    360.1 MiB           pi = 2 * np.pi * phase_values\n",
       "   133                             \n",
       "   134    831.3 MiB      0.0 MiB           for freq in trange(frequencies.size, desc='Calculating Z2n Statistics'):\n",
       "   135    831.3 MiB      0.0 MiB               cos = np.sum(np.cos(harmonics * pi[:, freq])) ** 2\n",
       "   136    831.3 MiB      0.0 MiB               sin = np.sum(np.sin(harmonics * pi[:, freq])) ** 2\n",
       "   137    831.3 MiB      0.0 MiB               fft = cos + sin\n",
       "   138    831.3 MiB      0.0 MiB               potency[freq] = fft\n",
       "   139                             \n",
       "   140    831.3 MiB      0.0 MiB           potency = (2/arrival_times.size) * potency\n",
       "   141                             \n",
       "   142    831.3 MiB      0.0 MiB           return potency\n",
       "   143                             \n",
       "   144                                 except Exception as error:\n",
       "   145                                     click.echo(error)"
      ]
     },
     "metadata": {},
     "output_type": "display_data"
    }
   ],
   "source": [
    "%mprun -f z2n.periodogram z2n.periodogram(time, freq)"
   ]
  },
  {
   "cell_type": "code",
   "execution_count": null,
   "metadata": {},
   "outputs": [],
   "source": []
  }
 ],
 "metadata": {
  "kernelspec": {
   "display_name": "Python 3",
   "language": "python",
   "name": "python3"
  },
  "language_info": {
   "codemirror_mode": {
    "name": "ipython",
    "version": 3
   },
   "file_extension": ".py",
   "mimetype": "text/x-python",
   "name": "python",
   "nbconvert_exporter": "python",
   "pygments_lexer": "ipython3",
   "version": "3.7.5"
  }
 },
 "nbformat": 4,
 "nbformat_minor": 4
}