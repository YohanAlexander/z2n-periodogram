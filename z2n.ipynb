{
 "cells": [
  {
   "cell_type": "code",
   "execution_count": 1,
   "metadata": {},
   "outputs": [],
   "source": [
    "from file import fits\n",
    "from stats import z2n\n",
    "import numpy as np\n",
    "import globals"
   ]
  },
  {
   "cell_type": "code",
   "execution_count": 2,
   "metadata": {},
   "outputs": [],
   "source": [
    "time = fits.load_fits('rxj_pnevtlist_0310kev_baryc.ds.gz')\n",
    "freq = np.arange(1e-4, 1.5e-3, 1e-5)"
   ]
  },
  {
   "cell_type": "code",
   "execution_count": 3,
   "metadata": {},
   "outputs": [
    {
     "name": "stderr",
     "output_type": "stream",
     "text": [
      "Calculating phase values: 100%|██████████| 33712/33712 [00:00<00:00, 144268.89it/s]\n"
     ]
    }
   ],
   "source": [
    "f = z2n.phases(time, freq)"
   ]
  },
  {
   "cell_type": "code",
   "execution_count": 4,
   "metadata": {},
   "outputs": [
    {
     "name": "stderr",
     "output_type": "stream",
     "text": [
      "Calculating phase values: 100%|██████████| 33712/33712 [00:00<00:00, 91961.40it/s]\n",
      "Calculating Z2n Statistics: 100%|██████████| 140/140 [00:00<00:00, 681.25it/s]\n"
     ]
    }
   ],
   "source": [
    "p = z2n.periodogram(time, freq)"
   ]
  }
 ],
 "metadata": {
  "kernelspec": {
   "display_name": "Python 3",
   "language": "python",
   "name": "python3"
  },
  "language_info": {
   "codemirror_mode": {
    "name": "ipython",
    "version": 3
   },
   "file_extension": ".py",
   "mimetype": "text/x-python",
   "name": "python",
   "nbconvert_exporter": "python",
   "pygments_lexer": "ipython3",
   "version": "3.7.5"
  }
 },
 "nbformat": 4,
 "nbformat_minor": 4
}
